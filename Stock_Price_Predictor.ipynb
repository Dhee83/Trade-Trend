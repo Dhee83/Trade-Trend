{
  "nbformat": 4,
  "nbformat_minor": 0,
  "metadata": {
    "colab": {
      "provenance": [],
      "gpuType": "T4"
    },
    "kernelspec": {
      "name": "python3",
      "display_name": "Python 3"
    },
    "language_info": {
      "name": "python"
    },
    "accelerator": "GPU"
  },
  "cells": [
    {
      "cell_type": "markdown",
      "source": [
        "LSTM"
      ],
      "metadata": {
        "id": "AE-A21Ydlo1b"
      }
    },
    {
      "cell_type": "code",
      "execution_count": null,
      "metadata": {
        "id": "BAeoLEvLrI9_"
      },
      "outputs": [],
      "source": [
        "import math\n",
        "import pandas_datareader.data as web\n",
        "import numpy as np\n",
        "import pandas as pd\n",
        "from sklearn.preprocessing import MinMaxScaler\n",
        "from keras.models import Sequential"
      ]
    },
    {
      "cell_type": "code",
      "source": [
        "from keras.layers import Dense, LSTM\n",
        "from matplotlib import pyplot as plt\n",
        "plt.style.use('fivethirtyeight')"
      ],
      "metadata": {
        "id": "sZKVTOCeriQi"
      },
      "execution_count": null,
      "outputs": []
    },
    {
      "cell_type": "code",
      "source": [
        "#@title Default title text\n",
        "df=pd.read_csv(\"Dec.csv\",index_col=False)"
      ],
      "metadata": {
        "id": "jUhuf7C0r9wM"
      },
      "execution_count": null,
      "outputs": []
    },
    {
      "cell_type": "code",
      "source": [
        "df"
      ],
      "metadata": {
        "id": "F4ZEkSJR2HUR",
        "colab": {
          "base_uri": "https://localhost:8080/",
          "height": 424
        },
        "outputId": "254f1049-daeb-4104-f91a-a7856770baec"
      },
      "execution_count": null,
      "outputs": [
        {
          "output_type": "execute_result",
          "data": {
            "text/plain": [
              "                 Timestamp    Open    High     Low   Close\n",
              "0     02 May 2024 18:30:00  96.695  96.695  96.690  96.690\n",
              "1     02 May 2024 18:40:00  96.690  96.690  96.685  96.685\n",
              "2     02 May 2024 18:50:00  96.685  96.690  96.685  96.690\n",
              "3     02 May 2024 19:00:00  96.690  96.695  96.685  96.690\n",
              "4     02 May 2024 19:10:00  96.690  96.695  96.690  96.690\n",
              "...                    ...     ...     ...     ...     ...\n",
              "1872  30 May 2024 13:00:00  96.620  96.625  96.615  96.625\n",
              "1873  30 May 2024 13:10:00  96.625  96.630  96.620  96.620\n",
              "1874  30 May 2024 13:20:00  96.620  96.620  96.615  96.615\n",
              "1875  30 May 2024 13:30:00  96.615  96.615  96.615  96.615\n",
              "1876  30 May 2024 13:40:00  96.615  96.615  96.615  96.615\n",
              "\n",
              "[1877 rows x 5 columns]"
            ],
            "text/html": [
              "\n",
              "  <div id=\"df-163dd993-c175-4f85-b320-e178b505da12\" class=\"colab-df-container\">\n",
              "    <div>\n",
              "<style scoped>\n",
              "    .dataframe tbody tr th:only-of-type {\n",
              "        vertical-align: middle;\n",
              "    }\n",
              "\n",
              "    .dataframe tbody tr th {\n",
              "        vertical-align: top;\n",
              "    }\n",
              "\n",
              "    .dataframe thead th {\n",
              "        text-align: right;\n",
              "    }\n",
              "</style>\n",
              "<table border=\"1\" class=\"dataframe\">\n",
              "  <thead>\n",
              "    <tr style=\"text-align: right;\">\n",
              "      <th></th>\n",
              "      <th>Timestamp</th>\n",
              "      <th>Open</th>\n",
              "      <th>High</th>\n",
              "      <th>Low</th>\n",
              "      <th>Close</th>\n",
              "    </tr>\n",
              "  </thead>\n",
              "  <tbody>\n",
              "    <tr>\n",
              "      <th>0</th>\n",
              "      <td>02 May 2024 18:30:00</td>\n",
              "      <td>96.695</td>\n",
              "      <td>96.695</td>\n",
              "      <td>96.690</td>\n",
              "      <td>96.690</td>\n",
              "    </tr>\n",
              "    <tr>\n",
              "      <th>1</th>\n",
              "      <td>02 May 2024 18:40:00</td>\n",
              "      <td>96.690</td>\n",
              "      <td>96.690</td>\n",
              "      <td>96.685</td>\n",
              "      <td>96.685</td>\n",
              "    </tr>\n",
              "    <tr>\n",
              "      <th>2</th>\n",
              "      <td>02 May 2024 18:50:00</td>\n",
              "      <td>96.685</td>\n",
              "      <td>96.690</td>\n",
              "      <td>96.685</td>\n",
              "      <td>96.690</td>\n",
              "    </tr>\n",
              "    <tr>\n",
              "      <th>3</th>\n",
              "      <td>02 May 2024 19:00:00</td>\n",
              "      <td>96.690</td>\n",
              "      <td>96.695</td>\n",
              "      <td>96.685</td>\n",
              "      <td>96.690</td>\n",
              "    </tr>\n",
              "    <tr>\n",
              "      <th>4</th>\n",
              "      <td>02 May 2024 19:10:00</td>\n",
              "      <td>96.690</td>\n",
              "      <td>96.695</td>\n",
              "      <td>96.690</td>\n",
              "      <td>96.690</td>\n",
              "    </tr>\n",
              "    <tr>\n",
              "      <th>...</th>\n",
              "      <td>...</td>\n",
              "      <td>...</td>\n",
              "      <td>...</td>\n",
              "      <td>...</td>\n",
              "      <td>...</td>\n",
              "    </tr>\n",
              "    <tr>\n",
              "      <th>1872</th>\n",
              "      <td>30 May 2024 13:00:00</td>\n",
              "      <td>96.620</td>\n",
              "      <td>96.625</td>\n",
              "      <td>96.615</td>\n",
              "      <td>96.625</td>\n",
              "    </tr>\n",
              "    <tr>\n",
              "      <th>1873</th>\n",
              "      <td>30 May 2024 13:10:00</td>\n",
              "      <td>96.625</td>\n",
              "      <td>96.630</td>\n",
              "      <td>96.620</td>\n",
              "      <td>96.620</td>\n",
              "    </tr>\n",
              "    <tr>\n",
              "      <th>1874</th>\n",
              "      <td>30 May 2024 13:20:00</td>\n",
              "      <td>96.620</td>\n",
              "      <td>96.620</td>\n",
              "      <td>96.615</td>\n",
              "      <td>96.615</td>\n",
              "    </tr>\n",
              "    <tr>\n",
              "      <th>1875</th>\n",
              "      <td>30 May 2024 13:30:00</td>\n",
              "      <td>96.615</td>\n",
              "      <td>96.615</td>\n",
              "      <td>96.615</td>\n",
              "      <td>96.615</td>\n",
              "    </tr>\n",
              "    <tr>\n",
              "      <th>1876</th>\n",
              "      <td>30 May 2024 13:40:00</td>\n",
              "      <td>96.615</td>\n",
              "      <td>96.615</td>\n",
              "      <td>96.615</td>\n",
              "      <td>96.615</td>\n",
              "    </tr>\n",
              "  </tbody>\n",
              "</table>\n",
              "<p>1877 rows × 5 columns</p>\n",
              "</div>\n",
              "    <div class=\"colab-df-buttons\">\n",
              "\n",
              "  <div class=\"colab-df-container\">\n",
              "    <button class=\"colab-df-convert\" onclick=\"convertToInteractive('df-163dd993-c175-4f85-b320-e178b505da12')\"\n",
              "            title=\"Convert this dataframe to an interactive table.\"\n",
              "            style=\"display:none;\">\n",
              "\n",
              "  <svg xmlns=\"http://www.w3.org/2000/svg\" height=\"24px\" viewBox=\"0 -960 960 960\">\n",
              "    <path d=\"M120-120v-720h720v720H120Zm60-500h600v-160H180v160Zm220 220h160v-160H400v160Zm0 220h160v-160H400v160ZM180-400h160v-160H180v160Zm440 0h160v-160H620v160ZM180-180h160v-160H180v160Zm440 0h160v-160H620v160Z\"/>\n",
              "  </svg>\n",
              "    </button>\n",
              "\n",
              "  <style>\n",
              "    .colab-df-container {\n",
              "      display:flex;\n",
              "      gap: 12px;\n",
              "    }\n",
              "\n",
              "    .colab-df-convert {\n",
              "      background-color: #E8F0FE;\n",
              "      border: none;\n",
              "      border-radius: 50%;\n",
              "      cursor: pointer;\n",
              "      display: none;\n",
              "      fill: #1967D2;\n",
              "      height: 32px;\n",
              "      padding: 0 0 0 0;\n",
              "      width: 32px;\n",
              "    }\n",
              "\n",
              "    .colab-df-convert:hover {\n",
              "      background-color: #E2EBFA;\n",
              "      box-shadow: 0px 1px 2px rgba(60, 64, 67, 0.3), 0px 1px 3px 1px rgba(60, 64, 67, 0.15);\n",
              "      fill: #174EA6;\n",
              "    }\n",
              "\n",
              "    .colab-df-buttons div {\n",
              "      margin-bottom: 4px;\n",
              "    }\n",
              "\n",
              "    [theme=dark] .colab-df-convert {\n",
              "      background-color: #3B4455;\n",
              "      fill: #D2E3FC;\n",
              "    }\n",
              "\n",
              "    [theme=dark] .colab-df-convert:hover {\n",
              "      background-color: #434B5C;\n",
              "      box-shadow: 0px 1px 3px 1px rgba(0, 0, 0, 0.15);\n",
              "      filter: drop-shadow(0px 1px 2px rgba(0, 0, 0, 0.3));\n",
              "      fill: #FFFFFF;\n",
              "    }\n",
              "  </style>\n",
              "\n",
              "    <script>\n",
              "      const buttonEl =\n",
              "        document.querySelector('#df-163dd993-c175-4f85-b320-e178b505da12 button.colab-df-convert');\n",
              "      buttonEl.style.display =\n",
              "        google.colab.kernel.accessAllowed ? 'block' : 'none';\n",
              "\n",
              "      async function convertToInteractive(key) {\n",
              "        const element = document.querySelector('#df-163dd993-c175-4f85-b320-e178b505da12');\n",
              "        const dataTable =\n",
              "          await google.colab.kernel.invokeFunction('convertToInteractive',\n",
              "                                                    [key], {});\n",
              "        if (!dataTable) return;\n",
              "\n",
              "        const docLinkHtml = 'Like what you see? Visit the ' +\n",
              "          '<a target=\"_blank\" href=https://colab.research.google.com/notebooks/data_table.ipynb>data table notebook</a>'\n",
              "          + ' to learn more about interactive tables.';\n",
              "        element.innerHTML = '';\n",
              "        dataTable['output_type'] = 'display_data';\n",
              "        await google.colab.output.renderOutput(dataTable, element);\n",
              "        const docLink = document.createElement('div');\n",
              "        docLink.innerHTML = docLinkHtml;\n",
              "        element.appendChild(docLink);\n",
              "      }\n",
              "    </script>\n",
              "  </div>\n",
              "\n",
              "\n",
              "<div id=\"df-8bae0b3e-2b0e-4518-99ed-c540799a44f2\">\n",
              "  <button class=\"colab-df-quickchart\" onclick=\"quickchart('df-8bae0b3e-2b0e-4518-99ed-c540799a44f2')\"\n",
              "            title=\"Suggest charts\"\n",
              "            style=\"display:none;\">\n",
              "\n",
              "<svg xmlns=\"http://www.w3.org/2000/svg\" height=\"24px\"viewBox=\"0 0 24 24\"\n",
              "     width=\"24px\">\n",
              "    <g>\n",
              "        <path d=\"M19 3H5c-1.1 0-2 .9-2 2v14c0 1.1.9 2 2 2h14c1.1 0 2-.9 2-2V5c0-1.1-.9-2-2-2zM9 17H7v-7h2v7zm4 0h-2V7h2v10zm4 0h-2v-4h2v4z\"/>\n",
              "    </g>\n",
              "</svg>\n",
              "  </button>\n",
              "\n",
              "<style>\n",
              "  .colab-df-quickchart {\n",
              "      --bg-color: #E8F0FE;\n",
              "      --fill-color: #1967D2;\n",
              "      --hover-bg-color: #E2EBFA;\n",
              "      --hover-fill-color: #174EA6;\n",
              "      --disabled-fill-color: #AAA;\n",
              "      --disabled-bg-color: #DDD;\n",
              "  }\n",
              "\n",
              "  [theme=dark] .colab-df-quickchart {\n",
              "      --bg-color: #3B4455;\n",
              "      --fill-color: #D2E3FC;\n",
              "      --hover-bg-color: #434B5C;\n",
              "      --hover-fill-color: #FFFFFF;\n",
              "      --disabled-bg-color: #3B4455;\n",
              "      --disabled-fill-color: #666;\n",
              "  }\n",
              "\n",
              "  .colab-df-quickchart {\n",
              "    background-color: var(--bg-color);\n",
              "    border: none;\n",
              "    border-radius: 50%;\n",
              "    cursor: pointer;\n",
              "    display: none;\n",
              "    fill: var(--fill-color);\n",
              "    height: 32px;\n",
              "    padding: 0;\n",
              "    width: 32px;\n",
              "  }\n",
              "\n",
              "  .colab-df-quickchart:hover {\n",
              "    background-color: var(--hover-bg-color);\n",
              "    box-shadow: 0 1px 2px rgba(60, 64, 67, 0.3), 0 1px 3px 1px rgba(60, 64, 67, 0.15);\n",
              "    fill: var(--button-hover-fill-color);\n",
              "  }\n",
              "\n",
              "  .colab-df-quickchart-complete:disabled,\n",
              "  .colab-df-quickchart-complete:disabled:hover {\n",
              "    background-color: var(--disabled-bg-color);\n",
              "    fill: var(--disabled-fill-color);\n",
              "    box-shadow: none;\n",
              "  }\n",
              "\n",
              "  .colab-df-spinner {\n",
              "    border: 2px solid var(--fill-color);\n",
              "    border-color: transparent;\n",
              "    border-bottom-color: var(--fill-color);\n",
              "    animation:\n",
              "      spin 1s steps(1) infinite;\n",
              "  }\n",
              "\n",
              "  @keyframes spin {\n",
              "    0% {\n",
              "      border-color: transparent;\n",
              "      border-bottom-color: var(--fill-color);\n",
              "      border-left-color: var(--fill-color);\n",
              "    }\n",
              "    20% {\n",
              "      border-color: transparent;\n",
              "      border-left-color: var(--fill-color);\n",
              "      border-top-color: var(--fill-color);\n",
              "    }\n",
              "    30% {\n",
              "      border-color: transparent;\n",
              "      border-left-color: var(--fill-color);\n",
              "      border-top-color: var(--fill-color);\n",
              "      border-right-color: var(--fill-color);\n",
              "    }\n",
              "    40% {\n",
              "      border-color: transparent;\n",
              "      border-right-color: var(--fill-color);\n",
              "      border-top-color: var(--fill-color);\n",
              "    }\n",
              "    60% {\n",
              "      border-color: transparent;\n",
              "      border-right-color: var(--fill-color);\n",
              "    }\n",
              "    80% {\n",
              "      border-color: transparent;\n",
              "      border-right-color: var(--fill-color);\n",
              "      border-bottom-color: var(--fill-color);\n",
              "    }\n",
              "    90% {\n",
              "      border-color: transparent;\n",
              "      border-bottom-color: var(--fill-color);\n",
              "    }\n",
              "  }\n",
              "</style>\n",
              "\n",
              "  <script>\n",
              "    async function quickchart(key) {\n",
              "      const quickchartButtonEl =\n",
              "        document.querySelector('#' + key + ' button');\n",
              "      quickchartButtonEl.disabled = true;  // To prevent multiple clicks.\n",
              "      quickchartButtonEl.classList.add('colab-df-spinner');\n",
              "      try {\n",
              "        const charts = await google.colab.kernel.invokeFunction(\n",
              "            'suggestCharts', [key], {});\n",
              "      } catch (error) {\n",
              "        console.error('Error during call to suggestCharts:', error);\n",
              "      }\n",
              "      quickchartButtonEl.classList.remove('colab-df-spinner');\n",
              "      quickchartButtonEl.classList.add('colab-df-quickchart-complete');\n",
              "    }\n",
              "    (() => {\n",
              "      let quickchartButtonEl =\n",
              "        document.querySelector('#df-8bae0b3e-2b0e-4518-99ed-c540799a44f2 button');\n",
              "      quickchartButtonEl.style.display =\n",
              "        google.colab.kernel.accessAllowed ? 'block' : 'none';\n",
              "    })();\n",
              "  </script>\n",
              "</div>\n",
              "    </div>\n",
              "  </div>\n"
            ],
            "application/vnd.google.colaboratory.intrinsic+json": {
              "type": "dataframe",
              "variable_name": "df",
              "summary": "{\n  \"name\": \"df\",\n  \"rows\": 1877,\n  \"fields\": [\n    {\n      \"column\": \"Timestamp\",\n      \"properties\": {\n        \"dtype\": \"object\",\n        \"num_unique_values\": 1877,\n        \"samples\": [\n          \"20 May 2024 13:40:00\",\n          \"23 May 2024 22:50:00\",\n          \"22 May 2024 17:40:00\"\n        ],\n        \"semantic_type\": \"\",\n        \"description\": \"\"\n      }\n    },\n    {\n      \"column\": \"Open\",\n      \"properties\": {\n        \"dtype\": \"number\",\n        \"std\": 0.06173702132268617,\n        \"min\": 96.565,\n        \"max\": 96.81,\n        \"num_unique_values\": 49,\n        \"samples\": [\n          96.75,\n          96.57,\n          96.575\n        ],\n        \"semantic_type\": \"\",\n        \"description\": \"\"\n      }\n    },\n    {\n      \"column\": \"High\",\n      \"properties\": {\n        \"dtype\": \"number\",\n        \"std\": 0.061719106808686225,\n        \"min\": 96.57,\n        \"max\": 96.825,\n        \"num_unique_values\": 50,\n        \"samples\": [\n          96.825,\n          96.645,\n          96.66\n        ],\n        \"semantic_type\": \"\",\n        \"description\": \"\"\n      }\n    },\n    {\n      \"column\": \"Low\",\n      \"properties\": {\n        \"dtype\": \"number\",\n        \"std\": 0.06183753732968201,\n        \"min\": 96.56,\n        \"max\": 96.8,\n        \"num_unique_values\": 48,\n        \"samples\": [\n          96.66,\n          96.6,\n          96.665\n        ],\n        \"semantic_type\": \"\",\n        \"description\": \"\"\n      }\n    },\n    {\n      \"column\": \"Close\",\n      \"properties\": {\n        \"dtype\": \"number\",\n        \"std\": 0.061762226097209126,\n        \"min\": 96.565,\n        \"max\": 96.805,\n        \"num_unique_values\": 48,\n        \"samples\": [\n          96.665,\n          96.605,\n          96.67\n        ],\n        \"semantic_type\": \"\",\n        \"description\": \"\"\n      }\n    }\n  ]\n}"
            }
          },
          "metadata": {},
          "execution_count": 54
        }
      ]
    },
    {
      "cell_type": "code",
      "source": [
        "# cols = ['Date', 'Open', 'High', 'Low', 'Close', 'Volume', 'Adj Close']\n",
        "# cols1=['Date', 'High', 'Low', 'Open', 'Close','Volume', 'Adj Close' ]\n",
        "# df.reindex(columns=cols1)\n",
        "# df.reset_index(drop=True, inplace=True)\n"
      ],
      "metadata": {
        "id": "8Ycbn93ctJd2"
      },
      "execution_count": null,
      "outputs": []
    },
    {
      "cell_type": "code",
      "source": [
        "df"
      ],
      "metadata": {
        "id": "qPvczFER3BOn",
        "colab": {
          "base_uri": "https://localhost:8080/",
          "height": 424
        },
        "outputId": "74b352bc-b02b-4cea-de84-8970c2f4d69d"
      },
      "execution_count": null,
      "outputs": [
        {
          "output_type": "execute_result",
          "data": {
            "text/plain": [
              "                 Timestamp    Open    High     Low   Close\n",
              "0     02 May 2024 18:30:00  96.695  96.695  96.690  96.690\n",
              "1     02 May 2024 18:40:00  96.690  96.690  96.685  96.685\n",
              "2     02 May 2024 18:50:00  96.685  96.690  96.685  96.690\n",
              "3     02 May 2024 19:00:00  96.690  96.695  96.685  96.690\n",
              "4     02 May 2024 19:10:00  96.690  96.695  96.690  96.690\n",
              "...                    ...     ...     ...     ...     ...\n",
              "1872  30 May 2024 13:00:00  96.620  96.625  96.615  96.625\n",
              "1873  30 May 2024 13:10:00  96.625  96.630  96.620  96.620\n",
              "1874  30 May 2024 13:20:00  96.620  96.620  96.615  96.615\n",
              "1875  30 May 2024 13:30:00  96.615  96.615  96.615  96.615\n",
              "1876  30 May 2024 13:40:00  96.615  96.615  96.615  96.615\n",
              "\n",
              "[1877 rows x 5 columns]"
            ],
            "text/html": [
              "\n",
              "  <div id=\"df-b85d9d8c-3f4f-4311-8603-d193e95efb03\" class=\"colab-df-container\">\n",
              "    <div>\n",
              "<style scoped>\n",
              "    .dataframe tbody tr th:only-of-type {\n",
              "        vertical-align: middle;\n",
              "    }\n",
              "\n",
              "    .dataframe tbody tr th {\n",
              "        vertical-align: top;\n",
              "    }\n",
              "\n",
              "    .dataframe thead th {\n",
              "        text-align: right;\n",
              "    }\n",
              "</style>\n",
              "<table border=\"1\" class=\"dataframe\">\n",
              "  <thead>\n",
              "    <tr style=\"text-align: right;\">\n",
              "      <th></th>\n",
              "      <th>Timestamp</th>\n",
              "      <th>Open</th>\n",
              "      <th>High</th>\n",
              "      <th>Low</th>\n",
              "      <th>Close</th>\n",
              "    </tr>\n",
              "  </thead>\n",
              "  <tbody>\n",
              "    <tr>\n",
              "      <th>0</th>\n",
              "      <td>02 May 2024 18:30:00</td>\n",
              "      <td>96.695</td>\n",
              "      <td>96.695</td>\n",
              "      <td>96.690</td>\n",
              "      <td>96.690</td>\n",
              "    </tr>\n",
              "    <tr>\n",
              "      <th>1</th>\n",
              "      <td>02 May 2024 18:40:00</td>\n",
              "      <td>96.690</td>\n",
              "      <td>96.690</td>\n",
              "      <td>96.685</td>\n",
              "      <td>96.685</td>\n",
              "    </tr>\n",
              "    <tr>\n",
              "      <th>2</th>\n",
              "      <td>02 May 2024 18:50:00</td>\n",
              "      <td>96.685</td>\n",
              "      <td>96.690</td>\n",
              "      <td>96.685</td>\n",
              "      <td>96.690</td>\n",
              "    </tr>\n",
              "    <tr>\n",
              "      <th>3</th>\n",
              "      <td>02 May 2024 19:00:00</td>\n",
              "      <td>96.690</td>\n",
              "      <td>96.695</td>\n",
              "      <td>96.685</td>\n",
              "      <td>96.690</td>\n",
              "    </tr>\n",
              "    <tr>\n",
              "      <th>4</th>\n",
              "      <td>02 May 2024 19:10:00</td>\n",
              "      <td>96.690</td>\n",
              "      <td>96.695</td>\n",
              "      <td>96.690</td>\n",
              "      <td>96.690</td>\n",
              "    </tr>\n",
              "    <tr>\n",
              "      <th>...</th>\n",
              "      <td>...</td>\n",
              "      <td>...</td>\n",
              "      <td>...</td>\n",
              "      <td>...</td>\n",
              "      <td>...</td>\n",
              "    </tr>\n",
              "    <tr>\n",
              "      <th>1872</th>\n",
              "      <td>30 May 2024 13:00:00</td>\n",
              "      <td>96.620</td>\n",
              "      <td>96.625</td>\n",
              "      <td>96.615</td>\n",
              "      <td>96.625</td>\n",
              "    </tr>\n",
              "    <tr>\n",
              "      <th>1873</th>\n",
              "      <td>30 May 2024 13:10:00</td>\n",
              "      <td>96.625</td>\n",
              "      <td>96.630</td>\n",
              "      <td>96.620</td>\n",
              "      <td>96.620</td>\n",
              "    </tr>\n",
              "    <tr>\n",
              "      <th>1874</th>\n",
              "      <td>30 May 2024 13:20:00</td>\n",
              "      <td>96.620</td>\n",
              "      <td>96.620</td>\n",
              "      <td>96.615</td>\n",
              "      <td>96.615</td>\n",
              "    </tr>\n",
              "    <tr>\n",
              "      <th>1875</th>\n",
              "      <td>30 May 2024 13:30:00</td>\n",
              "      <td>96.615</td>\n",
              "      <td>96.615</td>\n",
              "      <td>96.615</td>\n",
              "      <td>96.615</td>\n",
              "    </tr>\n",
              "    <tr>\n",
              "      <th>1876</th>\n",
              "      <td>30 May 2024 13:40:00</td>\n",
              "      <td>96.615</td>\n",
              "      <td>96.615</td>\n",
              "      <td>96.615</td>\n",
              "      <td>96.615</td>\n",
              "    </tr>\n",
              "  </tbody>\n",
              "</table>\n",
              "<p>1877 rows × 5 columns</p>\n",
              "</div>\n",
              "    <div class=\"colab-df-buttons\">\n",
              "\n",
              "  <div class=\"colab-df-container\">\n",
              "    <button class=\"colab-df-convert\" onclick=\"convertToInteractive('df-b85d9d8c-3f4f-4311-8603-d193e95efb03')\"\n",
              "            title=\"Convert this dataframe to an interactive table.\"\n",
              "            style=\"display:none;\">\n",
              "\n",
              "  <svg xmlns=\"http://www.w3.org/2000/svg\" height=\"24px\" viewBox=\"0 -960 960 960\">\n",
              "    <path d=\"M120-120v-720h720v720H120Zm60-500h600v-160H180v160Zm220 220h160v-160H400v160Zm0 220h160v-160H400v160ZM180-400h160v-160H180v160Zm440 0h160v-160H620v160ZM180-180h160v-160H180v160Zm440 0h160v-160H620v160Z\"/>\n",
              "  </svg>\n",
              "    </button>\n",
              "\n",
              "  <style>\n",
              "    .colab-df-container {\n",
              "      display:flex;\n",
              "      gap: 12px;\n",
              "    }\n",
              "\n",
              "    .colab-df-convert {\n",
              "      background-color: #E8F0FE;\n",
              "      border: none;\n",
              "      border-radius: 50%;\n",
              "      cursor: pointer;\n",
              "      display: none;\n",
              "      fill: #1967D2;\n",
              "      height: 32px;\n",
              "      padding: 0 0 0 0;\n",
              "      width: 32px;\n",
              "    }\n",
              "\n",
              "    .colab-df-convert:hover {\n",
              "      background-color: #E2EBFA;\n",
              "      box-shadow: 0px 1px 2px rgba(60, 64, 67, 0.3), 0px 1px 3px 1px rgba(60, 64, 67, 0.15);\n",
              "      fill: #174EA6;\n",
              "    }\n",
              "\n",
              "    .colab-df-buttons div {\n",
              "      margin-bottom: 4px;\n",
              "    }\n",
              "\n",
              "    [theme=dark] .colab-df-convert {\n",
              "      background-color: #3B4455;\n",
              "      fill: #D2E3FC;\n",
              "    }\n",
              "\n",
              "    [theme=dark] .colab-df-convert:hover {\n",
              "      background-color: #434B5C;\n",
              "      box-shadow: 0px 1px 3px 1px rgba(0, 0, 0, 0.15);\n",
              "      filter: drop-shadow(0px 1px 2px rgba(0, 0, 0, 0.3));\n",
              "      fill: #FFFFFF;\n",
              "    }\n",
              "  </style>\n",
              "\n",
              "    <script>\n",
              "      const buttonEl =\n",
              "        document.querySelector('#df-b85d9d8c-3f4f-4311-8603-d193e95efb03 button.colab-df-convert');\n",
              "      buttonEl.style.display =\n",
              "        google.colab.kernel.accessAllowed ? 'block' : 'none';\n",
              "\n",
              "      async function convertToInteractive(key) {\n",
              "        const element = document.querySelector('#df-b85d9d8c-3f4f-4311-8603-d193e95efb03');\n",
              "        const dataTable =\n",
              "          await google.colab.kernel.invokeFunction('convertToInteractive',\n",
              "                                                    [key], {});\n",
              "        if (!dataTable) return;\n",
              "\n",
              "        const docLinkHtml = 'Like what you see? Visit the ' +\n",
              "          '<a target=\"_blank\" href=https://colab.research.google.com/notebooks/data_table.ipynb>data table notebook</a>'\n",
              "          + ' to learn more about interactive tables.';\n",
              "        element.innerHTML = '';\n",
              "        dataTable['output_type'] = 'display_data';\n",
              "        await google.colab.output.renderOutput(dataTable, element);\n",
              "        const docLink = document.createElement('div');\n",
              "        docLink.innerHTML = docLinkHtml;\n",
              "        element.appendChild(docLink);\n",
              "      }\n",
              "    </script>\n",
              "  </div>\n",
              "\n",
              "\n",
              "<div id=\"df-8f183bb8-2e50-4f52-8eb6-eaf38b5f832a\">\n",
              "  <button class=\"colab-df-quickchart\" onclick=\"quickchart('df-8f183bb8-2e50-4f52-8eb6-eaf38b5f832a')\"\n",
              "            title=\"Suggest charts\"\n",
              "            style=\"display:none;\">\n",
              "\n",
              "<svg xmlns=\"http://www.w3.org/2000/svg\" height=\"24px\"viewBox=\"0 0 24 24\"\n",
              "     width=\"24px\">\n",
              "    <g>\n",
              "        <path d=\"M19 3H5c-1.1 0-2 .9-2 2v14c0 1.1.9 2 2 2h14c1.1 0 2-.9 2-2V5c0-1.1-.9-2-2-2zM9 17H7v-7h2v7zm4 0h-2V7h2v10zm4 0h-2v-4h2v4z\"/>\n",
              "    </g>\n",
              "</svg>\n",
              "  </button>\n",
              "\n",
              "<style>\n",
              "  .colab-df-quickchart {\n",
              "      --bg-color: #E8F0FE;\n",
              "      --fill-color: #1967D2;\n",
              "      --hover-bg-color: #E2EBFA;\n",
              "      --hover-fill-color: #174EA6;\n",
              "      --disabled-fill-color: #AAA;\n",
              "      --disabled-bg-color: #DDD;\n",
              "  }\n",
              "\n",
              "  [theme=dark] .colab-df-quickchart {\n",
              "      --bg-color: #3B4455;\n",
              "      --fill-color: #D2E3FC;\n",
              "      --hover-bg-color: #434B5C;\n",
              "      --hover-fill-color: #FFFFFF;\n",
              "      --disabled-bg-color: #3B4455;\n",
              "      --disabled-fill-color: #666;\n",
              "  }\n",
              "\n",
              "  .colab-df-quickchart {\n",
              "    background-color: var(--bg-color);\n",
              "    border: none;\n",
              "    border-radius: 50%;\n",
              "    cursor: pointer;\n",
              "    display: none;\n",
              "    fill: var(--fill-color);\n",
              "    height: 32px;\n",
              "    padding: 0;\n",
              "    width: 32px;\n",
              "  }\n",
              "\n",
              "  .colab-df-quickchart:hover {\n",
              "    background-color: var(--hover-bg-color);\n",
              "    box-shadow: 0 1px 2px rgba(60, 64, 67, 0.3), 0 1px 3px 1px rgba(60, 64, 67, 0.15);\n",
              "    fill: var(--button-hover-fill-color);\n",
              "  }\n",
              "\n",
              "  .colab-df-quickchart-complete:disabled,\n",
              "  .colab-df-quickchart-complete:disabled:hover {\n",
              "    background-color: var(--disabled-bg-color);\n",
              "    fill: var(--disabled-fill-color);\n",
              "    box-shadow: none;\n",
              "  }\n",
              "\n",
              "  .colab-df-spinner {\n",
              "    border: 2px solid var(--fill-color);\n",
              "    border-color: transparent;\n",
              "    border-bottom-color: var(--fill-color);\n",
              "    animation:\n",
              "      spin 1s steps(1) infinite;\n",
              "  }\n",
              "\n",
              "  @keyframes spin {\n",
              "    0% {\n",
              "      border-color: transparent;\n",
              "      border-bottom-color: var(--fill-color);\n",
              "      border-left-color: var(--fill-color);\n",
              "    }\n",
              "    20% {\n",
              "      border-color: transparent;\n",
              "      border-left-color: var(--fill-color);\n",
              "      border-top-color: var(--fill-color);\n",
              "    }\n",
              "    30% {\n",
              "      border-color: transparent;\n",
              "      border-left-color: var(--fill-color);\n",
              "      border-top-color: var(--fill-color);\n",
              "      border-right-color: var(--fill-color);\n",
              "    }\n",
              "    40% {\n",
              "      border-color: transparent;\n",
              "      border-right-color: var(--fill-color);\n",
              "      border-top-color: var(--fill-color);\n",
              "    }\n",
              "    60% {\n",
              "      border-color: transparent;\n",
              "      border-right-color: var(--fill-color);\n",
              "    }\n",
              "    80% {\n",
              "      border-color: transparent;\n",
              "      border-right-color: var(--fill-color);\n",
              "      border-bottom-color: var(--fill-color);\n",
              "    }\n",
              "    90% {\n",
              "      border-color: transparent;\n",
              "      border-bottom-color: var(--fill-color);\n",
              "    }\n",
              "  }\n",
              "</style>\n",
              "\n",
              "  <script>\n",
              "    async function quickchart(key) {\n",
              "      const quickchartButtonEl =\n",
              "        document.querySelector('#' + key + ' button');\n",
              "      quickchartButtonEl.disabled = true;  // To prevent multiple clicks.\n",
              "      quickchartButtonEl.classList.add('colab-df-spinner');\n",
              "      try {\n",
              "        const charts = await google.colab.kernel.invokeFunction(\n",
              "            'suggestCharts', [key], {});\n",
              "      } catch (error) {\n",
              "        console.error('Error during call to suggestCharts:', error);\n",
              "      }\n",
              "      quickchartButtonEl.classList.remove('colab-df-spinner');\n",
              "      quickchartButtonEl.classList.add('colab-df-quickchart-complete');\n",
              "    }\n",
              "    (() => {\n",
              "      let quickchartButtonEl =\n",
              "        document.querySelector('#df-8f183bb8-2e50-4f52-8eb6-eaf38b5f832a button');\n",
              "      quickchartButtonEl.style.display =\n",
              "        google.colab.kernel.accessAllowed ? 'block' : 'none';\n",
              "    })();\n",
              "  </script>\n",
              "</div>\n",
              "    </div>\n",
              "  </div>\n"
            ],
            "application/vnd.google.colaboratory.intrinsic+json": {
              "type": "dataframe",
              "variable_name": "df",
              "summary": "{\n  \"name\": \"df\",\n  \"rows\": 1877,\n  \"fields\": [\n    {\n      \"column\": \"Timestamp\",\n      \"properties\": {\n        \"dtype\": \"object\",\n        \"num_unique_values\": 1877,\n        \"samples\": [\n          \"20 May 2024 13:40:00\",\n          \"23 May 2024 22:50:00\",\n          \"22 May 2024 17:40:00\"\n        ],\n        \"semantic_type\": \"\",\n        \"description\": \"\"\n      }\n    },\n    {\n      \"column\": \"Open\",\n      \"properties\": {\n        \"dtype\": \"number\",\n        \"std\": 0.06173702132268617,\n        \"min\": 96.565,\n        \"max\": 96.81,\n        \"num_unique_values\": 49,\n        \"samples\": [\n          96.75,\n          96.57,\n          96.575\n        ],\n        \"semantic_type\": \"\",\n        \"description\": \"\"\n      }\n    },\n    {\n      \"column\": \"High\",\n      \"properties\": {\n        \"dtype\": \"number\",\n        \"std\": 0.061719106808686225,\n        \"min\": 96.57,\n        \"max\": 96.825,\n        \"num_unique_values\": 50,\n        \"samples\": [\n          96.825,\n          96.645,\n          96.66\n        ],\n        \"semantic_type\": \"\",\n        \"description\": \"\"\n      }\n    },\n    {\n      \"column\": \"Low\",\n      \"properties\": {\n        \"dtype\": \"number\",\n        \"std\": 0.06183753732968201,\n        \"min\": 96.56,\n        \"max\": 96.8,\n        \"num_unique_values\": 48,\n        \"samples\": [\n          96.66,\n          96.6,\n          96.665\n        ],\n        \"semantic_type\": \"\",\n        \"description\": \"\"\n      }\n    },\n    {\n      \"column\": \"Close\",\n      \"properties\": {\n        \"dtype\": \"number\",\n        \"std\": 0.061762226097209126,\n        \"min\": 96.565,\n        \"max\": 96.805,\n        \"num_unique_values\": 48,\n        \"samples\": [\n          96.665,\n          96.605,\n          96.67\n        ],\n        \"semantic_type\": \"\",\n        \"description\": \"\"\n      }\n    }\n  ]\n}"
            }
          },
          "metadata": {},
          "execution_count": 56
        }
      ]
    },
    {
      "cell_type": "code",
      "source": [
        "#visulalize the closing price history\n",
        "plt.figure(figsize=(16,8))\n",
        "plt.title('Closing price of VRL Logistics')\n",
        "plt.plot(df['Timestamp'],df['Close'])\n",
        "plt.xlabel('Date',fontsize=18)\n",
        "plt.ylabel('Close Price',fontsize=18)\n",
        "plt.show()"
      ],
      "metadata": {
        "id": "Sb8Tv5O931hF",
        "colab": {
          "base_uri": "https://localhost:8080/",
          "height": 422
        },
        "outputId": "7e72e926-be1e-465c-8a52-9364c42b14c0"
      },
      "execution_count": null,
      "outputs": [
        {
          "output_type": "display_data",
          "data": {
            "text/plain": [
              "<Figure size 1600x800 with 1 Axes>"
            ],
            "image/png": "[encoded data removed]"
          },
          "metadata": {}
        }
      ]
    },
    {
      "cell_type": "code",
      "source": [
        "data=df[['Close']].copy()"
      ],
      "metadata": {
        "id": "kacO2tFm_vPx"
      },
      "execution_count": null,
      "outputs": []
    },
    {
      "cell_type": "code",
      "source": [
        "data"
      ],
      "metadata": {
        "id": "1XMqv7W5-suS",
        "colab": {
          "base_uri": "https://localhost:8080/",
          "height": 424
        },
        "outputId": "c1f949f3-5024-4050-d868-d2b67cd64be0"
      },
      "execution_count": null,
      "outputs": [
        {
          "output_type": "execute_result",
          "data": {
            "text/plain": [
              "       Close\n",
              "0     96.690\n",
              "1     96.685\n",
              "2     96.690\n",
              "3     96.690\n",
              "4     96.690\n",
              "...      ...\n",
              "1872  96.625\n",
              "1873  96.620\n",
              "1874  96.615\n",
              "1875  96.615\n",
              "1876  96.615\n",
              "\n",
              "[1877 rows x 1 columns]"
            ],
            "text/html": [
              "\n",
              "  <div id=\"df-0f18ac2a-269a-4d4a-aa14-895813004e1e\" class=\"colab-df-container\">\n",
              "    <div>\n",
              "<style scoped>\n",
              "    .dataframe tbody tr th:only-of-type {\n",
              "        vertical-align: middle;\n",
              "    }\n",
              "\n",
              "    .dataframe tbody tr th {\n",
              "        vertical-align: top;\n",
              "    }\n",
              "\n",
              "    .dataframe thead th {\n",
              "        text-align: right;\n",
              "    }\n",
              "</style>\n",
              "<table border=\"1\" class=\"dataframe\">\n",
              "  <thead>\n",
              "    <tr style=\"text-align: right;\">\n",
              "      <th></th>\n",
              "      <th>Close</th>\n",
              "    </tr>\n",
              "  </thead>\n",
              "  <tbody>\n",
              "    <tr>\n",
              "      <th>0</th>\n",
              "      <td>96.690</td>\n",
              "    </tr>\n",
              "    <tr>\n",
              "      <th>1</th>\n",
              "      <td>96.685</td>\n",
              "    </tr>\n",
              "    <tr>\n",
              "      <th>2</th>\n",
              "      <td>96.690</td>\n",
              "    </tr>\n",
              "    <tr>\n",
              "      <th>3</th>\n",
              "      <td>96.690</td>\n",
              "    </tr>\n",
              "    <tr>\n",
              "      <th>4</th>\n",
              "      <td>96.690</td>\n",
              "    </tr>\n",
              "    <tr>\n",
              "      <th>...</th>\n",
              "      <td>...</td>\n",
              "    </tr>\n",
              "    <tr>\n",
              "      <th>1872</th>\n",
              "      <td>96.625</td>\n",
              "    </tr>\n",
              "    <tr>\n",
              "      <th>1873</th>\n",
              "      <td>96.620</td>\n",
              "    </tr>\n",
              "    <tr>\n",
              "      <th>1874</th>\n",
              "      <td>96.615</td>\n",
              "    </tr>\n",
              "    <tr>\n",
              "      <th>1875</th>\n",
              "      <td>96.615</td>\n",
              "    </tr>\n",
              "    <tr>\n",
              "      <th>1876</th>\n",
              "      <td>96.615</td>\n",
              "    </tr>\n",
              "  </tbody>\n",
              "</table>\n",
              "<p>1877 rows × 1 columns</p>\n",
              "</div>\n",
              "    <div class=\"colab-df-buttons\">\n",
              "\n",
              "  <div class=\"colab-df-container\">\n",
              "    <button class=\"colab-df-convert\" onclick=\"convertToInteractive('df-0f18ac2a-269a-4d4a-aa14-895813004e1e')\"\n",
              "            title=\"Convert this dataframe to an interactive table.\"\n",
              "            style=\"display:none;\">\n",
              "\n",
              "  <svg xmlns=\"http://www.w3.org/2000/svg\" height=\"24px\" viewBox=\"0 -960 960 960\">\n",
              "    <path d=\"M120-120v-720h720v720H120Zm60-500h600v-160H180v160Zm220 220h160v-160H400v160Zm0 220h160v-160H400v160ZM180-400h160v-160H180v160Zm440 0h160v-160H620v160ZM180-180h160v-160H180v160Zm440 0h160v-160H620v160Z\"/>\n",
              "  </svg>\n",
              "    </button>\n",
              "\n",
              "  <style>\n",
              "    .colab-df-container {\n",
              "      display:flex;\n",
              "      gap: 12px;\n",
              "    }\n",
              "\n",
              "    .colab-df-convert {\n",
              "      background-color: #E8F0FE;\n",
              "      border: none;\n",
              "      border-radius: 50%;\n",
              "      cursor: pointer;\n",
              "      display: none;\n",
              "      fill: #1967D2;\n",
              "      height: 32px;\n",
              "      padding: 0 0 0 0;\n",
              "      width: 32px;\n",
              "    }\n",
              "\n",
              "    .colab-df-convert:hover {\n",
              "      background-color: #E2EBFA;\n",
              "      box-shadow: 0px 1px 2px rgba(60, 64, 67, 0.3), 0px 1px 3px 1px rgba(60, 64, 67, 0.15);\n",
              "      fill: #174EA6;\n",
              "    }\n",
              "\n",
              "    .colab-df-buttons div {\n",
              "      margin-bottom: 4px;\n",
              "    }\n",
              "\n",
              "    [theme=dark] .colab-df-convert {\n",
              "      background-color: #3B4455;\n",
              "      fill: #D2E3FC;\n",
              "    }\n",
              "\n",
              "    [theme=dark] .colab-df-convert:hover {\n",
              "      background-color: #434B5C;\n",
              "      box-shadow: 0px 1px 3px 1px rgba(0, 0, 0, 0.15);\n",
              "      filter: drop-shadow(0px 1px 2px rgba(0, 0, 0, 0.3));\n",
              "      fill: #FFFFFF;\n",
              "    }\n",
              "  </style>\n",
              "\n",
              "    <script>\n",
              "      const buttonEl =\n",
              "        document.querySelector('#df-0f18ac2a-269a-4d4a-aa14-895813004e1e button.colab-df-convert');\n",
              "      buttonEl.style.display =\n",
              "        google.colab.kernel.accessAllowed ? 'block' : 'none';\n",
              "\n",
              "      async function convertToInteractive(key) {\n",
              "        const element = document.querySelector('#df-0f18ac2a-269a-4d4a-aa14-895813004e1e');\n",
              "        const dataTable =\n",
              "          await google.colab.kernel.invokeFunction('convertToInteractive',\n",
              "                                                    [key], {});\n",
              "        if (!dataTable) return;\n",
              "\n",
              "        const docLinkHtml = 'Like what you see? Visit the ' +\n",
              "          '<a target=\"_blank\" href=https://colab.research.google.com/notebooks/data_table.ipynb>data table notebook</a>'\n",
              "          + ' to learn more about interactive tables.';\n",
              "        element.innerHTML = '';\n",
              "        dataTable['output_type'] = 'display_data';\n",
              "        await google.colab.output.renderOutput(dataTable, element);\n",
              "        const docLink = document.createElement('div');\n",
              "        docLink.innerHTML = docLinkHtml;\n",
              "        element.appendChild(docLink);\n",
              "      }\n",
              "    </script>\n",
              "  </div>\n",
              "\n",
              "\n",
              "<div id=\"df-b5ad2780-bc4e-49e7-9f6c-03c0e106ef8a\">\n",
              "  <button class=\"colab-df-quickchart\" onclick=\"quickchart('df-b5ad2780-bc4e-49e7-9f6c-03c0e106ef8a')\"\n",
              "            title=\"Suggest charts\"\n",
              "            style=\"display:none;\">\n",
              "\n",
              "<svg xmlns=\"http://www.w3.org/2000/svg\" height=\"24px\"viewBox=\"0 0 24 24\"\n",
              "     width=\"24px\">\n",
              "    <g>\n",
              "        <path d=\"M19 3H5c-1.1 0-2 .9-2 2v14c0 1.1.9 2 2 2h14c1.1 0 2-.9 2-2V5c0-1.1-.9-2-2-2zM9 17H7v-7h2v7zm4 0h-2V7h2v10zm4 0h-2v-4h2v4z\"/>\n",
              "    </g>\n",
              "</svg>\n",
              "  </button>\n",
              "\n",
              "<style>\n",
              "  .colab-df-quickchart {\n",
              "      --bg-color: #E8F0FE;\n",
              "      --fill-color: #1967D2;\n",
              "      --hover-bg-color: #E2EBFA;\n",
              "      --hover-fill-color: #174EA6;\n",
              "      --disabled-fill-color: #AAA;\n",
              "      --disabled-bg-color: #DDD;\n",
              "  }\n",
              "\n",
              "  [theme=dark] .colab-df-quickchart {\n",
              "      --bg-color: #3B4455;\n",
              "      --fill-color: #D2E3FC;\n",
              "      --hover-bg-color: #434B5C;\n",
              "      --hover-fill-color: #FFFFFF;\n",
              "      --disabled-bg-color: #3B4455;\n",
              "      --disabled-fill-color: #666;\n",
              "  }\n",
              "\n",
              "  .colab-df-quickchart {\n",
              "    background-color: var(--bg-color);\n",
              "    border: none;\n",
              "    border-radius: 50%;\n",
              "    cursor: pointer;\n",
              "    display: none;\n",
              "    fill: var(--fill-color);\n",
              "    height: 32px;\n",
              "    padding: 0;\n",
              "    width: 32px;\n",
              "  }\n",
              "\n",
              "  .colab-df-quickchart:hover {\n",
              "    background-color: var(--hover-bg-color);\n",
              "    box-shadow: 0 1px 2px rgba(60, 64, 67, 0.3), 0 1px 3px 1px rgba(60, 64, 67, 0.15);\n",
              "    fill: var(--button-hover-fill-color);\n",
              "  }\n",
              "\n",
              "  .colab-df-quickchart-complete:disabled,\n",
              "  .colab-df-quickchart-complete:disabled:hover {\n",
              "    background-color: var(--disabled-bg-color);\n",
              "    fill: var(--disabled-fill-color);\n",
              "    box-shadow: none;\n",
              "  }\n",
              "\n",
              "  .colab-df-spinner {\n",
              "    border: 2px solid var(--fill-color);\n",
              "    border-color: transparent;\n",
              "    border-bottom-color: var(--fill-color);\n",
              "    animation:\n",
              "      spin 1s steps(1) infinite;\n",
              "  }\n",
              "\n",
              "  @keyframes spin {\n",
              "    0% {\n",
              "      border-color: transparent;\n",
              "      border-bottom-color: var(--fill-color);\n",
              "      border-left-color: var(--fill-color);\n",
              "    }\n",
              "    20% {\n",
              "      border-color: transparent;\n",
              "      border-left-color: var(--fill-color);\n",
              "      border-top-color: var(--fill-color);\n",
              "    }\n",
              "    30% {\n",
              "      border-color: transparent;\n",
              "      border-left-color: var(--fill-color);\n",
              "      border-top-color: var(--fill-color);\n",
              "      border-right-color: var(--fill-color);\n",
              "    }\n",
              "    40% {\n",
              "      border-color: transparent;\n",
              "      border-right-color: var(--fill-color);\n",
              "      border-top-color: var(--fill-color);\n",
              "    }\n",
              "    60% {\n",
              "      border-color: transparent;\n",
              "      border-right-color: var(--fill-color);\n",
              "    }\n",
              "    80% {\n",
              "      border-color: transparent;\n",
              "      border-right-color: var(--fill-color);\n",
              "      border-bottom-color: var(--fill-color);\n",
              "    }\n",
              "    90% {\n",
              "      border-color: transparent;\n",
              "      border-bottom-color: var(--fill-color);\n",
              "    }\n",
              "  }\n",
              "</style>\n",
              "\n",
              "  <script>\n",
              "    async function quickchart(key) {\n",
              "      const quickchartButtonEl =\n",
              "        document.querySelector('#' + key + ' button');\n",
              "      quickchartButtonEl.disabled = true;  // To prevent multiple clicks.\n",
              "      quickchartButtonEl.classList.add('colab-df-spinner');\n",
              "      try {\n",
              "        const charts = await google.colab.kernel.invokeFunction(\n",
              "            'suggestCharts', [key], {});\n",
              "      } catch (error) {\n",
              "        console.error('Error during call to suggestCharts:', error);\n",
              "      }\n",
              "      quickchartButtonEl.classList.remove('colab-df-spinner');\n",
              "      quickchartButtonEl.classList.add('colab-df-quickchart-complete');\n",
              "    }\n",
              "    (() => {\n",
              "      let quickchartButtonEl =\n",
              "        document.querySelector('#df-b5ad2780-bc4e-49e7-9f6c-03c0e106ef8a button');\n",
              "      quickchartButtonEl.style.display =\n",
              "        google.colab.kernel.accessAllowed ? 'block' : 'none';\n",
              "    })();\n",
              "  </script>\n",
              "</div>\n",
              "    </div>\n",
              "  </div>\n"
            ],
            "application/vnd.google.colaboratory.intrinsic+json": {
              "type": "dataframe",
              "variable_name": "data",
              "summary": "{\n  \"name\": \"data\",\n  \"rows\": 1877,\n  \"fields\": [\n    {\n      \"column\": \"Close\",\n      \"properties\": {\n        \"dtype\": \"number\",\n        \"std\": 0.061762226097209126,\n        \"min\": 96.565,\n        \"max\": 96.805,\n        \"num_unique_values\": 48,\n        \"samples\": [\n          96.665,\n          96.605,\n          96.67\n        ],\n        \"semantic_type\": \"\",\n        \"description\": \"\"\n      }\n    }\n  ]\n}"
            }
          },
          "metadata": {},
          "execution_count": 59
        }
      ]
    },
    {
      "cell_type": "code",
      "source": [
        "dataset=data.values"
      ],
      "metadata": {
        "id": "wQ9oLm0XAZ_8"
      },
      "execution_count": null,
      "outputs": []
    },
    {
      "cell_type": "code",
      "source": [
        "dataset"
      ],
      "metadata": {
        "colab": {
          "base_uri": "https://localhost:8080/"
        },
        "id": "w2a1pxqQqInr",
        "outputId": "370a0bfd-8130-47a0-bac6-0715843b5ff3"
      },
      "execution_count": null,
      "outputs": [
        {
          "output_type": "execute_result",
          "data": {
            "text/plain": [
              "array([[96.69 ],\n",
              "       [96.685],\n",
              "       [96.69 ],\n",
              "       ...,\n",
              "       [96.615],\n",
              "       [96.615],\n",
              "       [96.615]])"
            ]
          },
          "metadata": {},
          "execution_count": 61
        }
      ]
    },
    {
      "cell_type": "code",
      "source": [
        "type(dataset)"
      ],
      "metadata": {
        "id": "dopWc9ILAlrw",
        "colab": {
          "base_uri": "https://localhost:8080/"
        },
        "outputId": "ec829e4d-8d89-4f3d-b6ba-48959cb1434c"
      },
      "execution_count": null,
      "outputs": [
        {
          "output_type": "execute_result",
          "data": {
            "text/plain": [
              "numpy.ndarray"
            ]
          },
          "metadata": {},
          "execution_count": 62
        }
      ]
    },
    {
      "cell_type": "code",
      "source": [
        "training_data_len=math.ceil(len(dataset)*.8)"
      ],
      "metadata": {
        "id": "ewkzc9ynAm0L"
      },
      "execution_count": null,
      "outputs": []
    },
    {
      "cell_type": "code",
      "source": [
        "#Scale the data\n",
        "scaler=MinMaxScaler(feature_range=(0,1))\n",
        "scaled_data= scaler.fit_transform(dataset)"
      ],
      "metadata": {
        "id": "hKxVxRtaBTW0"
      },
      "execution_count": null,
      "outputs": []
    },
    {
      "cell_type": "code",
      "source": [
        "scaled_data[0:5]"
      ],
      "metadata": {
        "id": "Fyw6HwemBlAF",
        "colab": {
          "base_uri": "https://localhost:8080/"
        },
        "outputId": "7a06485e-f01d-4446-d352-bf03f23d8026"
      },
      "execution_count": null,
      "outputs": [
        {
          "output_type": "execute_result",
          "data": {
            "text/plain": [
              "array([[0.52083333],\n",
              "       [0.5       ],\n",
              "       [0.52083333],\n",
              "       [0.52083333],\n",
              "       [0.52083333]])"
            ]
          },
          "metadata": {},
          "execution_count": 65
        }
      ]
    },
    {
      "cell_type": "code",
      "source": [
        "train_data= scaled_data[0:training_data_len]"
      ],
      "metadata": {
        "id": "uRzchBpxBmeZ"
      },
      "execution_count": null,
      "outputs": []
    },
    {
      "cell_type": "code",
      "source": [
        "train_data.shape\n"
      ],
      "metadata": {
        "id": "7BXQWybuCZex",
        "colab": {
          "base_uri": "https://localhost:8080/"
        },
        "outputId": "f0244e39-a1e0-4af2-f880-fbd820110522"
      },
      "execution_count": null,
      "outputs": [
        {
          "output_type": "execute_result",
          "data": {
            "text/plain": [
              "(1502, 1)"
            ]
          },
          "metadata": {},
          "execution_count": 67
        }
      ]
    },
    {
      "cell_type": "code",
      "source": [
        "x_train=[]\n",
        "y_train=[]\n",
        "for i in range(60, len(train_data)):\n",
        "  x_train.append(train_data[i-60:i,0])\n",
        "  y_train.append(train_data[i,0])"
      ],
      "metadata": {
        "id": "rSJ8QvxRChbv"
      },
      "execution_count": null,
      "outputs": []
    },
    {
      "cell_type": "code",
      "source": [
        "len(x_train)"
      ],
      "metadata": {
        "id": "fYfBrx9JDmcX",
        "colab": {
          "base_uri": "https://localhost:8080/"
        },
        "outputId": "f381a7ba-9375-468e-ec7d-be795fd3afe1"
      },
      "execution_count": null,
      "outputs": [
        {
          "output_type": "execute_result",
          "data": {
            "text/plain": [
              "1442"
            ]
          },
          "metadata": {},
          "execution_count": 69
        }
      ]
    },
    {
      "cell_type": "code",
      "source": [
        "X,Y=np.array(x_train), np.array(y_train)"
      ],
      "metadata": {
        "id": "lU2SX3wmDm9s"
      },
      "execution_count": null,
      "outputs": []
    },
    {
      "cell_type": "code",
      "source": [
        "X"
      ],
      "metadata": {
        "id": "jlAWD33HD8pq",
        "colab": {
          "base_uri": "https://localhost:8080/"
        },
        "outputId": "b9710abc-0a9f-4e75-ec4a-2510e8bcd3e9"
      },
      "execution_count": null,
      "outputs": [
        {
          "output_type": "execute_result",
          "data": {
            "text/plain": [
              "array([[0.52083333, 0.5       , 0.52083333, ..., 0.6875    , 0.6875    ,\n",
              "        0.70833333],\n",
              "       [0.5       , 0.52083333, 0.52083333, ..., 0.6875    , 0.70833333,\n",
              "        0.70833333],\n",
              "       [0.52083333, 0.52083333, 0.52083333, ..., 0.70833333, 0.70833333,\n",
              "        0.70833333],\n",
              "       ...,\n",
              "       [0.20833333, 0.20833333, 0.20833333, ..., 0.1875    , 0.1875    ,\n",
              "        0.20833333],\n",
              "       [0.20833333, 0.20833333, 0.20833333, ..., 0.1875    , 0.20833333,\n",
              "        0.1875    ],\n",
              "       [0.20833333, 0.20833333, 0.20833333, ..., 0.20833333, 0.1875    ,\n",
              "        0.20833333]])"
            ]
          },
          "metadata": {},
          "execution_count": 71
        }
      ]
    },
    {
      "cell_type": "code",
      "source": [
        "Y"
      ],
      "metadata": {
        "id": "9LwktaqjENPU",
        "colab": {
          "base_uri": "https://localhost:8080/"
        },
        "outputId": "f2714bbc-1928-47c7-c407-a163aebfd23d"
      },
      "execution_count": null,
      "outputs": [
        {
          "output_type": "execute_result",
          "data": {
            "text/plain": [
              "array([0.70833333, 0.70833333, 0.6875    , ..., 0.1875    , 0.20833333,\n",
              "       0.1875    ])"
            ]
          },
          "metadata": {},
          "execution_count": 72
        }
      ]
    },
    {
      "cell_type": "code",
      "source": [
        "#Reshape\n",
        "X=np.reshape(X, (X.shape[0],X.shape[1],1))"
      ],
      "metadata": {
        "id": "WB3RGl3hmwox"
      },
      "execution_count": null,
      "outputs": []
    },
    {
      "cell_type": "code",
      "source": [],
      "metadata": {
        "id": "PwMSmAebDDSN"
      },
      "execution_count": null,
      "outputs": []
    },
    {
      "cell_type": "code",
      "source": [
        "X.shape"
      ],
      "metadata": {
        "id": "fsh0cSZbD2N1",
        "colab": {
          "base_uri": "https://localhost:8080/"
        },
        "outputId": "bc5621f6-5978-45fa-a296-f934679b50cd"
      },
      "execution_count": null,
      "outputs": [
        {
          "output_type": "execute_result",
          "data": {
            "text/plain": [
              "(1442, 60, 1)"
            ]
          },
          "metadata": {},
          "execution_count": 74
        }
      ]
    },
    {
      "cell_type": "code",
      "source": [
        "#Build the LSTM model\n",
        "model=Sequential()\n"
      ],
      "metadata": {
        "id": "QF3WHBKsD8cO"
      },
      "execution_count": null,
      "outputs": []
    },
    {
      "cell_type": "code",
      "source": [
        "model.add(LSTM(50, return_sequences=True, input_shape=(X.shape[1],1)))"
      ],
      "metadata": {
        "id": "rYTcWM40Fk0O"
      },
      "execution_count": null,
      "outputs": []
    },
    {
      "cell_type": "code",
      "source": [
        "model.add(LSTM(50, return_sequences=False))\n",
        "model.add(Dense(25))\n",
        "model.add(Dense(1))"
      ],
      "metadata": {
        "id": "fjnTEnk_k3LC"
      },
      "execution_count": null,
      "outputs": []
    },
    {
      "cell_type": "code",
      "source": [
        "#Compile the model\n",
        "model.compile(optimizer='adam', loss='mean_squared_error')"
      ],
      "metadata": {
        "id": "rexMeNv2lqAH"
      },
      "execution_count": null,
      "outputs": []
    },
    {
      "cell_type": "code",
      "source": [
        "#Train the model\n",
        "model.fit(X,Y,batch_size=1, epochs=1)"
      ],
      "metadata": {
        "colab": {
          "base_uri": "https://localhost:8080/"
        },
        "id": "K8DGT3AIl6cQ",
        "outputId": "bedbe620-1806-4332-aaf6-88b2f7da7fde"
      },
      "execution_count": null,
      "outputs": [
        {
          "output_type": "stream",
          "name": "stdout",
          "text": [
            "1442/1442 [==============================] - 14s 8ms/step - loss: 0.0024\n"
          ]
        },
        {
          "output_type": "execute_result",
          "data": {
            "text/plain": [
              "<keras.src.callbacks.History at 0x7b3438207c70>"
            ]
          },
          "metadata": {},
          "execution_count": 79
        }
      ]
    },
    {
      "cell_type": "code",
      "source": [
        "#Create the testing dataset\n",
        "#Create a new array containing scaled values from index\n",
        "\n",
        "test_data= scaled_data[training_data_len-60:,:]\n",
        "#Create the dataset's x_test and y_test\n",
        "X_test=[]\n",
        "Y_test=dataset[training_data_len:,:]\n",
        "for i in range(60,len(test_data)):\n",
        "  X_test.append(test_data[i-60:i,0])\n"
      ],
      "metadata": {
        "id": "vMgOKsxemLAk"
      },
      "execution_count": null,
      "outputs": []
    },
    {
      "cell_type": "code",
      "source": [
        "test_data"
      ],
      "metadata": {
        "colab": {
          "base_uri": "https://localhost:8080/"
        },
        "id": "EOViG4Kfp1Ej",
        "outputId": "32d3d3cc-451a-448c-b586-7c7db13d1845"
      },
      "execution_count": null,
      "outputs": [
        {
          "output_type": "execute_result",
          "data": {
            "text/plain": [
              "array([[0.20833333],\n",
              "       [0.20833333],\n",
              "       [0.20833333],\n",
              "       [0.25      ],\n",
              "       [0.20833333],\n",
              "       [0.20833333],\n",
              "       [0.20833333],\n",
              "       [0.20833333],\n",
              "       [0.22916667],\n",
              "       [0.22916667],\n",
              "       [0.25      ],\n",
              "       [0.22916667],\n",
              "       [0.25      ],\n",
              "       [0.22916667],\n",
              "       [0.22916667],\n",
              "       [0.22916667],\n",
              "       [0.22916667],\n",
              "       [0.22916667],\n",
              "       [0.22916667],\n",
              "       [0.22916667],\n",
              "       [0.22916667],\n",
              "       [0.25      ],\n",
              "       [0.20833333],\n",
              "       [0.22916667],\n",
              "       [0.25      ],\n",
              "       [0.25      ],\n",
              "       [0.25      ],\n",
              "       [0.25      ],\n",
              "       [0.22916667],\n",
              "       [0.22916667],\n",
              "       [0.20833333],\n",
              "       [0.22916667],\n",
              "       [0.22916667],\n",
              "       [0.20833333],\n",
              "       [0.20833333],\n",
              "       [0.20833333],\n",
              "       [0.1875    ],\n",
              "       [0.1875    ],\n",
              "       [0.16666667],\n",
              "       [0.16666667],\n",
              "       [0.20833333],\n",
              "       [0.20833333],\n",
              "       [0.1875    ],\n",
              "       [0.20833333],\n",
              "       [0.20833333],\n",
              "       [0.20833333],\n",
              "       [0.20833333],\n",
              "       [0.1875    ],\n",
              "       [0.20833333],\n",
              "       [0.1875    ],\n",
              "       [0.1875    ],\n",
              "       [0.20833333],\n",
              "       [0.1875    ],\n",
              "       [0.20833333],\n",
              "       [0.1875    ],\n",
              "       [0.1875    ],\n",
              "       [0.20833333],\n",
              "       [0.1875    ],\n",
              "       [0.20833333],\n",
              "       [0.1875    ],\n",
              "       [0.1875    ],\n",
              "       [0.16666667],\n",
              "       [0.16666667],\n",
              "       [0.14583333],\n",
              "       [0.14583333],\n",
              "       [0.14583333],\n",
              "       [0.14583333],\n",
              "       [0.14583333],\n",
              "       [0.125     ],\n",
              "       [0.08333333],\n",
              "       [0.0625    ],\n",
              "       [0.        ],\n",
              "       [0.04166667],\n",
              "       [0.02083333],\n",
              "       [0.02083333],\n",
              "       [0.04166667],\n",
              "       [0.        ],\n",
              "       [0.        ],\n",
              "       [0.02083333],\n",
              "       [0.02083333],\n",
              "       [0.04166667],\n",
              "       [0.04166667],\n",
              "       [0.0625    ],\n",
              "       [0.08333333],\n",
              "       [0.125     ],\n",
              "       [0.14583333],\n",
              "       [0.10416667],\n",
              "       [0.125     ],\n",
              "       [0.125     ],\n",
              "       [0.125     ],\n",
              "       [0.125     ],\n",
              "       [0.14583333],\n",
              "       [0.125     ],\n",
              "       [0.125     ],\n",
              "       [0.10416667],\n",
              "       [0.10416667],\n",
              "       [0.10416667],\n",
              "       [0.14583333],\n",
              "       [0.125     ],\n",
              "       [0.10416667],\n",
              "       [0.10416667],\n",
              "       [0.10416667],\n",
              "       [0.10416667],\n",
              "       [0.10416667],\n",
              "       [0.10416667],\n",
              "       [0.10416667],\n",
              "       [0.10416667],\n",
              "       [0.10416667],\n",
              "       [0.10416667],\n",
              "       [0.10416667],\n",
              "       [0.10416667],\n",
              "       [0.10416667],\n",
              "       [0.10416667],\n",
              "       [0.10416667],\n",
              "       [0.10416667],\n",
              "       [0.10416667],\n",
              "       [0.10416667],\n",
              "       [0.125     ],\n",
              "       [0.14583333],\n",
              "       [0.14583333],\n",
              "       [0.16666667],\n",
              "       [0.16666667],\n",
              "       [0.16666667],\n",
              "       [0.16666667],\n",
              "       [0.16666667],\n",
              "       [0.16666667],\n",
              "       [0.16666667],\n",
              "       [0.14583333],\n",
              "       [0.14583333],\n",
              "       [0.16666667],\n",
              "       [0.14583333],\n",
              "       [0.14583333],\n",
              "       [0.16666667],\n",
              "       [0.16666667],\n",
              "       [0.16666667],\n",
              "       [0.14583333],\n",
              "       [0.14583333],\n",
              "       [0.14583333],\n",
              "       [0.14583333],\n",
              "       [0.14583333],\n",
              "       [0.14583333],\n",
              "       [0.14583333],\n",
              "       [0.14583333],\n",
              "       [0.125     ],\n",
              "       [0.14583333],\n",
              "       [0.16666667],\n",
              "       [0.16666667],\n",
              "       [0.16666667],\n",
              "       [0.14583333],\n",
              "       [0.14583333],\n",
              "       [0.14583333],\n",
              "       [0.125     ],\n",
              "       [0.14583333],\n",
              "       [0.125     ],\n",
              "       [0.125     ],\n",
              "       [0.14583333],\n",
              "       [0.125     ],\n",
              "       [0.14583333],\n",
              "       [0.14583333],\n",
              "       [0.16666667],\n",
              "       [0.1875    ],\n",
              "       [0.1875    ],\n",
              "       [0.16666667],\n",
              "       [0.1875    ],\n",
              "       [0.1875    ],\n",
              "       [0.1875    ],\n",
              "       [0.1875    ],\n",
              "       [0.16666667],\n",
              "       [0.1875    ],\n",
              "       [0.3125    ],\n",
              "       [0.27083333],\n",
              "       [0.29166667],\n",
              "       [0.29166667],\n",
              "       [0.3125    ],\n",
              "       [0.29166667],\n",
              "       [0.3125    ],\n",
              "       [0.3125    ],\n",
              "       [0.3125    ],\n",
              "       [0.3125    ],\n",
              "       [0.3125    ],\n",
              "       [0.29166667],\n",
              "       [0.3125    ],\n",
              "       [0.3125    ],\n",
              "       [0.3125    ],\n",
              "       [0.33333333],\n",
              "       [0.33333333],\n",
              "       [0.29166667],\n",
              "       [0.29166667],\n",
              "       [0.29166667],\n",
              "       [0.29166667],\n",
              "       [0.29166667],\n",
              "       [0.27083333],\n",
              "       [0.29166667],\n",
              "       [0.29166667],\n",
              "       [0.29166667],\n",
              "       [0.27083333],\n",
              "       [0.27083333],\n",
              "       [0.27083333],\n",
              "       [0.29166667],\n",
              "       [0.29166667],\n",
              "       [0.27083333],\n",
              "       [0.27083333],\n",
              "       [0.27083333],\n",
              "       [0.27083333],\n",
              "       [0.27083333],\n",
              "       [0.27083333],\n",
              "       [0.27083333],\n",
              "       [0.27083333],\n",
              "       [0.27083333],\n",
              "       [0.29166667],\n",
              "       [0.27083333],\n",
              "       [0.27083333],\n",
              "       [0.27083333],\n",
              "       [0.29166667],\n",
              "       [0.27083333],\n",
              "       [0.27083333],\n",
              "       [0.27083333],\n",
              "       [0.27083333],\n",
              "       [0.27083333],\n",
              "       [0.29166667],\n",
              "       [0.29166667],\n",
              "       [0.29166667],\n",
              "       [0.3125    ],\n",
              "       [0.29166667],\n",
              "       [0.29166667],\n",
              "       [0.25      ],\n",
              "       [0.25      ],\n",
              "       [0.27083333],\n",
              "       [0.27083333],\n",
              "       [0.27083333],\n",
              "       [0.29166667],\n",
              "       [0.29166667],\n",
              "       [0.3125    ],\n",
              "       [0.29166667],\n",
              "       [0.29166667],\n",
              "       [0.29166667],\n",
              "       [0.27083333],\n",
              "       [0.27083333],\n",
              "       [0.27083333],\n",
              "       [0.25      ],\n",
              "       [0.25      ],\n",
              "       [0.25      ],\n",
              "       [0.25      ],\n",
              "       [0.22916667],\n",
              "       [0.25      ],\n",
              "       [0.27083333],\n",
              "       [0.25      ],\n",
              "       [0.27083333],\n",
              "       [0.27083333],\n",
              "       [0.27083333],\n",
              "       [0.27083333],\n",
              "       [0.29166667],\n",
              "       [0.29166667],\n",
              "       [0.33333333],\n",
              "       [0.33333333],\n",
              "       [0.33333333],\n",
              "       [0.33333333],\n",
              "       [0.3125    ],\n",
              "       [0.33333333],\n",
              "       [0.33333333],\n",
              "       [0.375     ],\n",
              "       [0.35416667],\n",
              "       [0.35416667],\n",
              "       [0.3125    ],\n",
              "       [0.29166667],\n",
              "       [0.29166667],\n",
              "       [0.29166667],\n",
              "       [0.29166667],\n",
              "       [0.27083333],\n",
              "       [0.29166667],\n",
              "       [0.29166667],\n",
              "       [0.27083333],\n",
              "       [0.25      ],\n",
              "       [0.25      ],\n",
              "       [0.22916667],\n",
              "       [0.22916667],\n",
              "       [0.22916667],\n",
              "       [0.20833333],\n",
              "       [0.22916667],\n",
              "       [0.20833333],\n",
              "       [0.20833333],\n",
              "       [0.22916667],\n",
              "       [0.20833333],\n",
              "       [0.20833333],\n",
              "       [0.20833333],\n",
              "       [0.1875    ],\n",
              "       [0.1875    ],\n",
              "       [0.1875    ],\n",
              "       [0.1875    ],\n",
              "       [0.16666667],\n",
              "       [0.1875    ],\n",
              "       [0.1875    ],\n",
              "       [0.1875    ],\n",
              "       [0.1875    ],\n",
              "       [0.1875    ],\n",
              "       [0.1875    ],\n",
              "       [0.1875    ],\n",
              "       [0.1875    ],\n",
              "       [0.20833333],\n",
              "       [0.1875    ],\n",
              "       [0.16666667],\n",
              "       [0.16666667],\n",
              "       [0.16666667],\n",
              "       [0.16666667],\n",
              "       [0.14583333],\n",
              "       [0.16666667],\n",
              "       [0.16666667],\n",
              "       [0.14583333],\n",
              "       [0.16666667],\n",
              "       [0.14583333],\n",
              "       [0.14583333],\n",
              "       [0.14583333],\n",
              "       [0.14583333],\n",
              "       [0.125     ],\n",
              "       [0.125     ],\n",
              "       [0.125     ],\n",
              "       [0.14583333],\n",
              "       [0.125     ],\n",
              "       [0.14583333],\n",
              "       [0.125     ],\n",
              "       [0.125     ],\n",
              "       [0.125     ],\n",
              "       [0.125     ],\n",
              "       [0.14583333],\n",
              "       [0.14583333],\n",
              "       [0.14583333],\n",
              "       [0.1875    ],\n",
              "       [0.1875    ],\n",
              "       [0.1875    ],\n",
              "       [0.16666667],\n",
              "       [0.1875    ],\n",
              "       [0.1875    ],\n",
              "       [0.1875    ],\n",
              "       [0.1875    ],\n",
              "       [0.20833333],\n",
              "       [0.1875    ],\n",
              "       [0.16666667],\n",
              "       [0.29166667],\n",
              "       [0.29166667],\n",
              "       [0.3125    ],\n",
              "       [0.3125    ],\n",
              "       [0.3125    ],\n",
              "       [0.33333333],\n",
              "       [0.29166667],\n",
              "       [0.29166667],\n",
              "       [0.27083333],\n",
              "       [0.27083333],\n",
              "       [0.25      ],\n",
              "       [0.22916667],\n",
              "       [0.22916667],\n",
              "       [0.22916667],\n",
              "       [0.22916667],\n",
              "       [0.22916667],\n",
              "       [0.25      ],\n",
              "       [0.22916667],\n",
              "       [0.25      ],\n",
              "       [0.22916667],\n",
              "       [0.22916667],\n",
              "       [0.20833333],\n",
              "       [0.16666667],\n",
              "       [0.1875    ],\n",
              "       [0.1875    ],\n",
              "       [0.16666667],\n",
              "       [0.20833333],\n",
              "       [0.22916667],\n",
              "       [0.20833333],\n",
              "       [0.20833333],\n",
              "       [0.20833333],\n",
              "       [0.20833333],\n",
              "       [0.1875    ],\n",
              "       [0.16666667],\n",
              "       [0.16666667],\n",
              "       [0.16666667],\n",
              "       [0.16666667],\n",
              "       [0.16666667],\n",
              "       [0.1875    ],\n",
              "       [0.1875    ],\n",
              "       [0.16666667],\n",
              "       [0.16666667],\n",
              "       [0.16666667],\n",
              "       [0.14583333],\n",
              "       [0.16666667],\n",
              "       [0.125     ],\n",
              "       [0.125     ],\n",
              "       [0.14583333],\n",
              "       [0.125     ],\n",
              "       [0.125     ],\n",
              "       [0.10416667],\n",
              "       [0.125     ],\n",
              "       [0.10416667],\n",
              "       [0.125     ],\n",
              "       [0.125     ],\n",
              "       [0.125     ],\n",
              "       [0.125     ],\n",
              "       [0.125     ],\n",
              "       [0.125     ],\n",
              "       [0.125     ],\n",
              "       [0.125     ],\n",
              "       [0.125     ],\n",
              "       [0.125     ],\n",
              "       [0.14583333],\n",
              "       [0.16666667],\n",
              "       [0.14583333],\n",
              "       [0.14583333],\n",
              "       [0.14583333],\n",
              "       [0.14583333],\n",
              "       [0.14583333],\n",
              "       [0.14583333],\n",
              "       [0.14583333],\n",
              "       [0.14583333],\n",
              "       [0.14583333],\n",
              "       [0.16666667],\n",
              "       [0.14583333],\n",
              "       [0.14583333],\n",
              "       [0.14583333],\n",
              "       [0.14583333],\n",
              "       [0.14583333],\n",
              "       [0.16666667],\n",
              "       [0.16666667],\n",
              "       [0.16666667],\n",
              "       [0.1875    ],\n",
              "       [0.16666667],\n",
              "       [0.16666667],\n",
              "       [0.16666667],\n",
              "       [0.1875    ],\n",
              "       [0.1875    ],\n",
              "       [0.20833333],\n",
              "       [0.22916667],\n",
              "       [0.22916667],\n",
              "       [0.20833333],\n",
              "       [0.25      ],\n",
              "       [0.22916667],\n",
              "       [0.20833333],\n",
              "       [0.20833333],\n",
              "       [0.20833333]])"
            ]
          },
          "metadata": {},
          "execution_count": 81
        }
      ]
    },
    {
      "cell_type": "code",
      "source": [
        "#Convert the data to a numpy array\n",
        "X_test=np.array(X_test)"
      ],
      "metadata": {
        "id": "-ZCIzIJJna88"
      },
      "execution_count": null,
      "outputs": []
    },
    {
      "cell_type": "code",
      "source": [
        "#Reshape the data\n",
        "X_test=np.reshape(X_test, (X_test.shape[0],X_test.shape[1],1))"
      ],
      "metadata": {
        "id": "altaSxyWpmGb"
      },
      "execution_count": null,
      "outputs": []
    },
    {
      "cell_type": "code",
      "source": [
        "X_test"
      ],
      "metadata": {
        "colab": {
          "base_uri": "https://localhost:8080/"
        },
        "id": "LqDoRuKwqDau",
        "outputId": "ea7dc331-f294-4d47-80b1-24abe4a6f664"
      },
      "execution_count": null,
      "outputs": [
        {
          "output_type": "execute_result",
          "data": {
            "text/plain": [
              "array([[[0.20833333],\n",
              "        [0.20833333],\n",
              "        [0.20833333],\n",
              "        ...,\n",
              "        [0.1875    ],\n",
              "        [0.20833333],\n",
              "        [0.1875    ]],\n",
              "\n",
              "       [[0.20833333],\n",
              "        [0.20833333],\n",
              "        [0.25      ],\n",
              "        ...,\n",
              "        [0.20833333],\n",
              "        [0.1875    ],\n",
              "        [0.1875    ]],\n",
              "\n",
              "       [[0.20833333],\n",
              "        [0.25      ],\n",
              "        [0.20833333],\n",
              "        ...,\n",
              "        [0.1875    ],\n",
              "        [0.1875    ],\n",
              "        [0.16666667]],\n",
              "\n",
              "       ...,\n",
              "\n",
              "       [[0.16666667],\n",
              "        [0.16666667],\n",
              "        [0.16666667],\n",
              "        ...,\n",
              "        [0.20833333],\n",
              "        [0.25      ],\n",
              "        [0.22916667]],\n",
              "\n",
              "       [[0.16666667],\n",
              "        [0.16666667],\n",
              "        [0.1875    ],\n",
              "        ...,\n",
              "        [0.25      ],\n",
              "        [0.22916667],\n",
              "        [0.20833333]],\n",
              "\n",
              "       [[0.16666667],\n",
              "        [0.1875    ],\n",
              "        [0.1875    ],\n",
              "        ...,\n",
              "        [0.22916667],\n",
              "        [0.20833333],\n",
              "        [0.20833333]]])"
            ]
          },
          "metadata": {},
          "execution_count": 84
        }
      ]
    },
    {
      "cell_type": "code",
      "source": [
        "#Get the model predicted price values\n",
        "predictions = model.predict(X_test)\n",
        "predictions=scaler.inverse_transform(predictions)"
      ],
      "metadata": {
        "colab": {
          "base_uri": "https://localhost:8080/"
        },
        "id": "0dt7wqi2qJcW",
        "outputId": "4af29a41-8ac6-4607-a8e4-83cdcb34065b"
      },
      "execution_count": null,
      "outputs": [
        {
          "output_type": "stream",
          "name": "stdout",
          "text": [
            "12/12 [==============================] - 1s 4ms/step\n"
          ]
        }
      ]
    },
    {
      "cell_type": "code",
      "source": [
        "#Get the root mean squared error(RMSE)\n",
        "rmse= np.sqrt(np.mean(predictions-Y_test)**2)"
      ],
      "metadata": {
        "id": "nSZtwkpqqskL"
      },
      "execution_count": null,
      "outputs": []
    },
    {
      "cell_type": "code",
      "source": [
        "rmse"
      ],
      "metadata": {
        "colab": {
          "base_uri": "https://localhost:8080/"
        },
        "id": "424nwFH9rJNZ",
        "outputId": "37a80d7c-7b0e-445e-d921-7a0ba5ad6f00"
      },
      "execution_count": null,
      "outputs": [
        {
          "output_type": "execute_result",
          "data": {
            "text/plain": [
              "0.0029474666341150167"
            ]
          },
          "metadata": {},
          "execution_count": 87
        }
      ]
    },
    {
      "cell_type": "code",
      "source": [
        "train=data[:training_data_len]\n",
        "valid=data[training_data_len:]\n",
        "valid['Predictions']=predictions\n",
        "plt.figure(figsize=(16,8))\n",
        "plt.title(\"Model\")\n",
        "plt.xlabel(\"Date\",fontsize=18)\n",
        "plt.ylabel(\"Closing Price\",fontsize=18)\n",
        "plt.plot(train[\"Close\"])\n",
        "plt.plot(valid[[\"Close\",\"Predictions\"]])\n",
        "plt.legend([\"Train\",\"Valid\",\"Predictions\"],loc=\"lower right\")\n",
        "plt.show()"
      ],
      "metadata": {
        "colab": {
          "base_uri": "https://localhost:8080/",
          "height": 558
        },
        "id": "ZrMOeisPrL6O",
        "outputId": "6dbbfa88-24b4-4fef-ac7a-c8f077c39c7b"
      },
      "execution_count": null,
      "outputs": [
        {
          "output_type": "stream",
          "name": "stderr",
          "text": [
            "<ipython-input-88-1ac909e46e82>:3: SettingWithCopyWarning: \n",
            "A value is trying to be set on a copy of a slice from a DataFrame.\n",
            "Try using .loc[row_indexer,col_indexer] = value instead\n",
            "\n",
            "See the caveats in the documentation: https://pandas.pydata.org/pandas-docs/stable/user_guide/indexing.html#returning-a-view-versus-a-copy\n",
            "  valid['Predictions']=predictions\n"
          ]
        },
        {
          "output_type": "display_data",
          "data": {
            "text/plain": [
              "<Figure size 1600x800 with 1 Axes>"
            ],
            "image/png": "[encoded data removed]"
          },
          "metadata": {}
        }
      ]
    },
    {
      "cell_type": "code",
      "source": [
        "# Assuming you have a trained LSTM model named 'model'\n",
        "# and a variable 'historical_data' containing your historical closing prices\n",
        "\n",
        "# Step 1: Prepare Your Data (assuming 'historical_data' is a numpy array)\n",
        "# Normalize data\n",
        "scaler = MinMaxScaler(feature_range=(0, 1))\n",
        "scaled_data = scaler.fit_transform(dataset.reshape(-1, 1))\n",
        "\n",
        "# Reshape data for LSTM input (assuming a timestep of 1)\n",
        "X_test = np.reshape(scaled_data, (scaled_data.shape[0], 1, 1))\n",
        "\n",
        "# Step 2: Define Prediction Horizon\n",
        "prediction_horizon = 20  # For example, predict the next 7 days\n",
        "\n",
        "# Step 3 & 4: Feed the Model and Predict Future Prices\n",
        "predicted_prices = []\n",
        "for _ in range(prediction_horizon):\n",
        "    # Predict the next day's price\n",
        "    predicted_price = model.predict(X_test[-1].reshape(1, 1, 1))\n",
        "\n",
        "    # Inverse transform the predicted price to get the actual price\n",
        "    predicted_price = scaler.inverse_transform(predicted_price)\n",
        "\n",
        "    # Append the predicted price to the input data for the next prediction\n",
        "    X_test = np.append(X_test, predicted_price)\n",
        "\n",
        "    # Append the predicted price to the list of predicted prices\n",
        "    predicted_prices.append(predicted_price)\n",
        "\n",
        "# Print or use predicted_prices\n",
        "print(predicted_prices)\n"
      ],
      "metadata": {
        "id": "Qo7blruhL9wX",
        "colab": {
          "base_uri": "https://localhost:8080/"
        },
        "outputId": "ec96a0de-02eb-4627-c85f-b7de9dfd7b4a"
      },
      "execution_count": null,
      "outputs": [
        {
          "output_type": "stream",
          "name": "stdout",
          "text": [
            "1/1 [==============================] - 0s 18ms/step\n",
            "1/1 [==============================] - 0s 19ms/step\n",
            "1/1 [==============================] - 0s 17ms/step\n",
            "1/1 [==============================] - 0s 25ms/step\n",
            "1/1 [==============================] - 0s 17ms/step\n",
            "1/1 [==============================] - 0s 17ms/step\n",
            "1/1 [==============================] - 0s 17ms/step\n",
            "1/1 [==============================] - 0s 17ms/step\n",
            "1/1 [==============================] - 0s 19ms/step\n",
            "1/1 [==============================] - 0s 17ms/step\n",
            "1/1 [==============================] - 0s 17ms/step\n",
            "1/1 [==============================] - 0s 19ms/step\n",
            "1/1 [==============================] - 0s 18ms/step\n",
            "1/1 [==============================] - 0s 18ms/step\n",
            "1/1 [==============================] - 0s 17ms/step\n",
            "1/1 [==============================] - 0s 18ms/step\n",
            "1/1 [==============================] - 0s 18ms/step\n",
            "1/1 [==============================] - 0s 18ms/step\n",
            "1/1 [==============================] - 0s 17ms/step\n",
            "1/1 [==============================] - 0s 17ms/step\n",
            "[array([[96.59469]], dtype=float32), array([[96.76235]], dtype=float32), array([[96.76235]], dtype=float32), array([[96.76235]], dtype=float32), array([[96.76235]], dtype=float32), array([[96.76235]], dtype=float32), array([[96.76235]], dtype=float32), array([[96.76235]], dtype=float32), array([[96.76235]], dtype=float32), array([[96.76235]], dtype=float32), array([[96.76235]], dtype=float32), array([[96.76235]], dtype=float32), array([[96.76235]], dtype=float32), array([[96.76235]], dtype=float32), array([[96.76235]], dtype=float32), array([[96.76235]], dtype=float32), array([[96.76235]], dtype=float32), array([[96.76235]], dtype=float32), array([[96.76235]], dtype=float32), array([[96.76235]], dtype=float32)]\n"
          ]
        }
      ]
    },
    {
      "cell_type": "code",
      "source": [
        "predicted_prices"
      ],
      "metadata": {
        "id": "-OwO4aSoL7TG",
        "colab": {
          "base_uri": "https://localhost:8080/"
        },
        "outputId": "ce418a3e-c08b-44e6-d5cc-8804e4c32e3a"
      },
      "execution_count": null,
      "outputs": [
        {
          "output_type": "execute_result",
          "data": {
            "text/plain": [
              "[array([[96.59469]], dtype=float32),\n",
              " array([[96.76235]], dtype=float32),\n",
              " array([[96.76235]], dtype=float32),\n",
              " array([[96.76235]], dtype=float32),\n",
              " array([[96.76235]], dtype=float32),\n",
              " array([[96.76235]], dtype=float32),\n",
              " array([[96.76235]], dtype=float32),\n",
              " array([[96.76235]], dtype=float32),\n",
              " array([[96.76235]], dtype=float32),\n",
              " array([[96.76235]], dtype=float32)]"
            ]
          },
          "metadata": {},
          "execution_count": 93
        }
      ]
    },
    {
      "cell_type": "code",
      "source": [],
      "metadata": {
        "id": "wFLLuxoArdLI"
      },
      "execution_count": null,
      "outputs": []
    }
  ]
}